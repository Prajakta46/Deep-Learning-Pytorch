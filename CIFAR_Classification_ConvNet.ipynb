{
  "nbformat": 4,
  "nbformat_minor": 0,
  "metadata": {
    "colab": {
      "name": "CIFAR_Classification_ConvNet.ipynb",
      "provenance": []
    },
    "kernelspec": {
      "name": "python3",
      "display_name": "Python 3"
    },
    "language_info": {
      "name": "python"
    },
    "accelerator": "GPU",
    "widgets": {
      "application/vnd.jupyter.widget-state+json": {
        "a5e55585f78249c393710c66fd0518bc": {
          "model_module": "@jupyter-widgets/controls",
          "model_name": "HBoxModel",
          "model_module_version": "1.5.0",
          "state": {
            "_dom_classes": [],
            "_model_module": "@jupyter-widgets/controls",
            "_model_module_version": "1.5.0",
            "_model_name": "HBoxModel",
            "_view_count": null,
            "_view_module": "@jupyter-widgets/controls",
            "_view_module_version": "1.5.0",
            "_view_name": "HBoxView",
            "box_style": "",
            "children": [
              "IPY_MODEL_adcbbf37ef8147e59e2eae098fcef4fb",
              "IPY_MODEL_8187cad070704d0d8b711f0cbc4c46f2",
              "IPY_MODEL_9f309f9e226f47ea8379b950ff044425"
            ],
            "layout": "IPY_MODEL_269a6b802d0f4e22b9ad557f4813bb9e"
          }
        },
        "adcbbf37ef8147e59e2eae098fcef4fb": {
          "model_module": "@jupyter-widgets/controls",
          "model_name": "HTMLModel",
          "model_module_version": "1.5.0",
          "state": {
            "_dom_classes": [],
            "_model_module": "@jupyter-widgets/controls",
            "_model_module_version": "1.5.0",
            "_model_name": "HTMLModel",
            "_view_count": null,
            "_view_module": "@jupyter-widgets/controls",
            "_view_module_version": "1.5.0",
            "_view_name": "HTMLView",
            "description": "",
            "description_tooltip": null,
            "layout": "IPY_MODEL_79b932ddaaa5452aa21ae98877b0fc4b",
            "placeholder": "​",
            "style": "IPY_MODEL_4d6b1ad460c24fe8bdc6587143e2fa6e",
            "value": ""
          }
        },
        "8187cad070704d0d8b711f0cbc4c46f2": {
          "model_module": "@jupyter-widgets/controls",
          "model_name": "FloatProgressModel",
          "model_module_version": "1.5.0",
          "state": {
            "_dom_classes": [],
            "_model_module": "@jupyter-widgets/controls",
            "_model_module_version": "1.5.0",
            "_model_name": "FloatProgressModel",
            "_view_count": null,
            "_view_module": "@jupyter-widgets/controls",
            "_view_module_version": "1.5.0",
            "_view_name": "ProgressView",
            "bar_style": "success",
            "description": "",
            "description_tooltip": null,
            "layout": "IPY_MODEL_4faa36fb13ff45608c9a464c3d24d0ba",
            "max": 170498071,
            "min": 0,
            "orientation": "horizontal",
            "style": "IPY_MODEL_c9639a03924449b893e255aa88b49cce",
            "value": 170498071
          }
        },
        "9f309f9e226f47ea8379b950ff044425": {
          "model_module": "@jupyter-widgets/controls",
          "model_name": "HTMLModel",
          "model_module_version": "1.5.0",
          "state": {
            "_dom_classes": [],
            "_model_module": "@jupyter-widgets/controls",
            "_model_module_version": "1.5.0",
            "_model_name": "HTMLModel",
            "_view_count": null,
            "_view_module": "@jupyter-widgets/controls",
            "_view_module_version": "1.5.0",
            "_view_name": "HTMLView",
            "description": "",
            "description_tooltip": null,
            "layout": "IPY_MODEL_c57433c1d30949d58aac66ae81a93a54",
            "placeholder": "​",
            "style": "IPY_MODEL_8022f73077714d12a0f06a6fd2b98de4",
            "value": " 170499072/? [00:12&lt;00:00, 14896751.21it/s]"
          }
        },
        "269a6b802d0f4e22b9ad557f4813bb9e": {
          "model_module": "@jupyter-widgets/base",
          "model_name": "LayoutModel",
          "model_module_version": "1.2.0",
          "state": {
            "_model_module": "@jupyter-widgets/base",
            "_model_module_version": "1.2.0",
            "_model_name": "LayoutModel",
            "_view_count": null,
            "_view_module": "@jupyter-widgets/base",
            "_view_module_version": "1.2.0",
            "_view_name": "LayoutView",
            "align_content": null,
            "align_items": null,
            "align_self": null,
            "border": null,
            "bottom": null,
            "display": null,
            "flex": null,
            "flex_flow": null,
            "grid_area": null,
            "grid_auto_columns": null,
            "grid_auto_flow": null,
            "grid_auto_rows": null,
            "grid_column": null,
            "grid_gap": null,
            "grid_row": null,
            "grid_template_areas": null,
            "grid_template_columns": null,
            "grid_template_rows": null,
            "height": null,
            "justify_content": null,
            "justify_items": null,
            "left": null,
            "margin": null,
            "max_height": null,
            "max_width": null,
            "min_height": null,
            "min_width": null,
            "object_fit": null,
            "object_position": null,
            "order": null,
            "overflow": null,
            "overflow_x": null,
            "overflow_y": null,
            "padding": null,
            "right": null,
            "top": null,
            "visibility": null,
            "width": null
          }
        },
        "79b932ddaaa5452aa21ae98877b0fc4b": {
          "model_module": "@jupyter-widgets/base",
          "model_name": "LayoutModel",
          "model_module_version": "1.2.0",
          "state": {
            "_model_module": "@jupyter-widgets/base",
            "_model_module_version": "1.2.0",
            "_model_name": "LayoutModel",
            "_view_count": null,
            "_view_module": "@jupyter-widgets/base",
            "_view_module_version": "1.2.0",
            "_view_name": "LayoutView",
            "align_content": null,
            "align_items": null,
            "align_self": null,
            "border": null,
            "bottom": null,
            "display": null,
            "flex": null,
            "flex_flow": null,
            "grid_area": null,
            "grid_auto_columns": null,
            "grid_auto_flow": null,
            "grid_auto_rows": null,
            "grid_column": null,
            "grid_gap": null,
            "grid_row": null,
            "grid_template_areas": null,
            "grid_template_columns": null,
            "grid_template_rows": null,
            "height": null,
            "justify_content": null,
            "justify_items": null,
            "left": null,
            "margin": null,
            "max_height": null,
            "max_width": null,
            "min_height": null,
            "min_width": null,
            "object_fit": null,
            "object_position": null,
            "order": null,
            "overflow": null,
            "overflow_x": null,
            "overflow_y": null,
            "padding": null,
            "right": null,
            "top": null,
            "visibility": null,
            "width": null
          }
        },
        "4d6b1ad460c24fe8bdc6587143e2fa6e": {
          "model_module": "@jupyter-widgets/controls",
          "model_name": "DescriptionStyleModel",
          "model_module_version": "1.5.0",
          "state": {
            "_model_module": "@jupyter-widgets/controls",
            "_model_module_version": "1.5.0",
            "_model_name": "DescriptionStyleModel",
            "_view_count": null,
            "_view_module": "@jupyter-widgets/base",
            "_view_module_version": "1.2.0",
            "_view_name": "StyleView",
            "description_width": ""
          }
        },
        "4faa36fb13ff45608c9a464c3d24d0ba": {
          "model_module": "@jupyter-widgets/base",
          "model_name": "LayoutModel",
          "model_module_version": "1.2.0",
          "state": {
            "_model_module": "@jupyter-widgets/base",
            "_model_module_version": "1.2.0",
            "_model_name": "LayoutModel",
            "_view_count": null,
            "_view_module": "@jupyter-widgets/base",
            "_view_module_version": "1.2.0",
            "_view_name": "LayoutView",
            "align_content": null,
            "align_items": null,
            "align_self": null,
            "border": null,
            "bottom": null,
            "display": null,
            "flex": null,
            "flex_flow": null,
            "grid_area": null,
            "grid_auto_columns": null,
            "grid_auto_flow": null,
            "grid_auto_rows": null,
            "grid_column": null,
            "grid_gap": null,
            "grid_row": null,
            "grid_template_areas": null,
            "grid_template_columns": null,
            "grid_template_rows": null,
            "height": null,
            "justify_content": null,
            "justify_items": null,
            "left": null,
            "margin": null,
            "max_height": null,
            "max_width": null,
            "min_height": null,
            "min_width": null,
            "object_fit": null,
            "object_position": null,
            "order": null,
            "overflow": null,
            "overflow_x": null,
            "overflow_y": null,
            "padding": null,
            "right": null,
            "top": null,
            "visibility": null,
            "width": null
          }
        },
        "c9639a03924449b893e255aa88b49cce": {
          "model_module": "@jupyter-widgets/controls",
          "model_name": "ProgressStyleModel",
          "model_module_version": "1.5.0",
          "state": {
            "_model_module": "@jupyter-widgets/controls",
            "_model_module_version": "1.5.0",
            "_model_name": "ProgressStyleModel",
            "_view_count": null,
            "_view_module": "@jupyter-widgets/base",
            "_view_module_version": "1.2.0",
            "_view_name": "StyleView",
            "bar_color": null,
            "description_width": ""
          }
        },
        "c57433c1d30949d58aac66ae81a93a54": {
          "model_module": "@jupyter-widgets/base",
          "model_name": "LayoutModel",
          "model_module_version": "1.2.0",
          "state": {
            "_model_module": "@jupyter-widgets/base",
            "_model_module_version": "1.2.0",
            "_model_name": "LayoutModel",
            "_view_count": null,
            "_view_module": "@jupyter-widgets/base",
            "_view_module_version": "1.2.0",
            "_view_name": "LayoutView",
            "align_content": null,
            "align_items": null,
            "align_self": null,
            "border": null,
            "bottom": null,
            "display": null,
            "flex": null,
            "flex_flow": null,
            "grid_area": null,
            "grid_auto_columns": null,
            "grid_auto_flow": null,
            "grid_auto_rows": null,
            "grid_column": null,
            "grid_gap": null,
            "grid_row": null,
            "grid_template_areas": null,
            "grid_template_columns": null,
            "grid_template_rows": null,
            "height": null,
            "justify_content": null,
            "justify_items": null,
            "left": null,
            "margin": null,
            "max_height": null,
            "max_width": null,
            "min_height": null,
            "min_width": null,
            "object_fit": null,
            "object_position": null,
            "order": null,
            "overflow": null,
            "overflow_x": null,
            "overflow_y": null,
            "padding": null,
            "right": null,
            "top": null,
            "visibility": null,
            "width": null
          }
        },
        "8022f73077714d12a0f06a6fd2b98de4": {
          "model_module": "@jupyter-widgets/controls",
          "model_name": "DescriptionStyleModel",
          "model_module_version": "1.5.0",
          "state": {
            "_model_module": "@jupyter-widgets/controls",
            "_model_module_version": "1.5.0",
            "_model_name": "DescriptionStyleModel",
            "_view_count": null,
            "_view_module": "@jupyter-widgets/base",
            "_view_module_version": "1.2.0",
            "_view_name": "StyleView",
            "description_width": ""
          }
        }
      }
    }
  },
  "cells": [
    {
      "cell_type": "code",
      "execution_count": 1,
      "metadata": {
        "id": "wlFAOwABT7uY"
      },
      "outputs": [],
      "source": [
        "import torch\n",
        "import torch.nn as nn\n",
        "import torchvision\n",
        "from torchvision import transforms\n",
        "from torchvision import datasets\n",
        "from torch.utils.data import DataLoader\n",
        "\n",
        "import matplotlib.pyplot as plt\n",
        "import numpy as np\n"
      ]
    },
    {
      "cell_type": "code",
      "source": [
        "# Setting up device\n",
        "device = torch.device('cuda' if torch.cuda.is_available() else 'cpu')"
      ],
      "metadata": {
        "id": "SeFtqbL0ZWpP"
      },
      "execution_count": 2,
      "outputs": []
    },
    {
      "cell_type": "code",
      "source": [
        "# Setting up hyper parameters\n",
        "num_epochs = 10\n",
        "batch_size = 100\n",
        "learning_rate = 0.07\n",
        "input_size = 32*32\n",
        "output_size = 10"
      ],
      "metadata": {
        "id": "8U6UojpLapKX"
      },
      "execution_count": 3,
      "outputs": []
    },
    {
      "cell_type": "code",
      "source": [
        "train_data = datasets.CIFAR10(root='./data', train=True, download=True, transform=transforms.ToTensor())\n",
        "test_data = datasets.CIFAR10(root='./data', train=False, download=True, transform=transforms.ToTensor())"
      ],
      "metadata": {
        "colab": {
          "base_uri": "https://localhost:8080/",
          "height": 101,
          "referenced_widgets": [
            "a5e55585f78249c393710c66fd0518bc",
            "adcbbf37ef8147e59e2eae098fcef4fb",
            "8187cad070704d0d8b711f0cbc4c46f2",
            "9f309f9e226f47ea8379b950ff044425",
            "269a6b802d0f4e22b9ad557f4813bb9e",
            "79b932ddaaa5452aa21ae98877b0fc4b",
            "4d6b1ad460c24fe8bdc6587143e2fa6e",
            "4faa36fb13ff45608c9a464c3d24d0ba",
            "c9639a03924449b893e255aa88b49cce",
            "c57433c1d30949d58aac66ae81a93a54",
            "8022f73077714d12a0f06a6fd2b98de4"
          ]
        },
        "id": "puJbAO6Ua3SX",
        "outputId": "61b971fa-bca3-4fb6-b134-144651c697bd"
      },
      "execution_count": 4,
      "outputs": [
        {
          "output_type": "stream",
          "name": "stdout",
          "text": [
            "Downloading https://www.cs.toronto.edu/~kriz/cifar-10-python.tar.gz to ./data/cifar-10-python.tar.gz\n"
          ]
        },
        {
          "output_type": "display_data",
          "data": {
            "text/plain": [
              "  0%|          | 0/170498071 [00:00<?, ?it/s]"
            ],
            "application/vnd.jupyter.widget-view+json": {
              "version_major": 2,
              "version_minor": 0,
              "model_id": "a5e55585f78249c393710c66fd0518bc"
            }
          },
          "metadata": {}
        },
        {
          "output_type": "stream",
          "name": "stdout",
          "text": [
            "Extracting ./data/cifar-10-python.tar.gz to ./data\n",
            "Files already downloaded and verified\n"
          ]
        }
      ]
    },
    {
      "cell_type": "code",
      "source": [
        "print('Total images in training dataste is:', len(train_data))\n",
        "print('Random image has shape and labels as :', train_data.data[0].shape, train_data.targets[0])\n",
        "\n",
        "plt.imshow(train_data.data[1])\n",
        "plt.show()"
      ],
      "metadata": {
        "colab": {
          "base_uri": "https://localhost:8080/",
          "height": 301
        },
        "id": "uCTd_F82bNzP",
        "outputId": "2198eea2-fd0f-458a-e477-5346eb203a2f"
      },
      "execution_count": 5,
      "outputs": [
        {
          "output_type": "stream",
          "name": "stdout",
          "text": [
            "Total images in training dataste is: 50000\n",
            "Random image has shape and labels as : (32, 32, 3) 6\n"
          ]
        },
        {
          "output_type": "display_data",
          "data": {
            "text/plain": [
              "<Figure size 432x288 with 1 Axes>"
            ],
            "image/png": "[encoded data removed]"
          },
          "metadata": {
            "needs_background": "light"
          }
        }
      ]
    },
    {
      "cell_type": "code",
      "source": [
        "# Data Loaders \n",
        "train_loader = DataLoader(train_data, batch_size = batch_size, shuffle = True)\n",
        "test_loader = DataLoader(test_data, batch_size = batch_size, shuffle = True)"
      ],
      "metadata": {
        "id": "2eO8C1n6bDUO"
      },
      "execution_count": 6,
      "outputs": []
    },
    {
      "cell_type": "code",
      "source": [
        "classes = ('plane', 'car', 'bird', 'cat', 'deer', 'dog', 'frog', 'horse', 'ship', 'truck')"
      ],
      "metadata": {
        "id": "F4OasRwucI7B"
      },
      "execution_count": 7,
      "outputs": []
    },
    {
      "cell_type": "code",
      "source": [
        "# Implementing Convolutional Neural Network\n",
        "class ConvNet(nn.Module):\n",
        "  def __init__(self):\n",
        "    super(ConvNet, self).__init__()\n",
        "\n",
        "    self.conv1 = nn.Conv2d(3, 6, 5)\n",
        "    self.pool = nn.MaxPool2d(2, 2)\n",
        "\n",
        "    self.conv2 = nn.Conv2d(6, 16, 5)\n",
        "    self.act = nn.ReLU()\n",
        "\n",
        "    # Check the final conv + pool shape to decide input_size for FC layer\n",
        "    self.fc1 = nn.Linear(16*5*5, 120)               # Becoz after applying self.conv2+pool, we get images of shape [batch_size, 16, 5, 5] \n",
        "    self.fc2 = nn.Linear(120,100)\n",
        "    self.fc3 = nn.Linear(100,10)\n",
        "\n",
        "  def forward(self, input):\n",
        "\n",
        "    # 1. First Conv + Pooling Layer\n",
        "    conv1 = self.act(self.conv1(input))\n",
        "    conv1_pool = self.pool(conv1)\n",
        "\n",
        "    # 2. Second Conv + Pooling Layer\n",
        "    conv2 = self.act(self.conv2(conv1_pool))\n",
        "    conv2_pool = self.pool(conv2)\n",
        "\n",
        "    # 3. FC Layer\n",
        "    flattened_images = conv2_pool.view(batch_size, -1)\n",
        "    linear1 = self.act(self.fc1(flattened_images))\n",
        "    linear2 = self.act(self.fc2(linear1))\n",
        "    final_output = self.fc3(linear2)\n",
        "\n",
        "    # return conv1, conv1_pool, conv2, conv2_pool, flattened_images\n",
        "\n",
        "    return final_output"
      ],
      "metadata": {
        "id": "T7i6V8PecS9s"
      },
      "execution_count": 8,
      "outputs": []
    },
    {
      "cell_type": "code",
      "source": [
        "total_steps = len(train_loader)\n",
        "\n",
        "model = ConvNet().to(device = device)\n",
        "criterion = nn.CrossEntropyLoss()                                       # Softmax is already included in CrossEntropy\n",
        "optimizer = torch.optim.SGD(model.parameters(), lr = learning_rate)\n",
        "\n",
        "for epoch in range(num_epochs):\n",
        "  for batch_index, (images, labels) in enumerate(train_loader):\n",
        "\n",
        "    # print(images.shape)\n",
        "    # print(labels.shape)\n",
        "\n",
        "    # batch looks like : [100, 3, 32, 32]\n",
        "    # we want our data to look like : [100, 3, 1024]\n",
        "\n",
        "    images = images.to(device=device)\n",
        "    labels = labels.to(device=device)\n",
        "\n",
        "    # print('Input Images shape :', images.shape)\n",
        "\n",
        "    # Forward Pass\n",
        "    predictions = model(images)\n",
        "\n",
        "    # print(predictions.shape)\n",
        "    # print(labels.shape)\n",
        "\n",
        "    loss = criterion(predictions, labels)\n",
        "\n",
        "    # print('First conv shape:', conv1.shape)\n",
        "    # print('First conv+pool shape:', conv1_pool.shape)\n",
        "\n",
        "    # print('Second conv shape:', conv2.shape)\n",
        "    # print('Second conv + pool shape:', conv2_pool.shape)\n",
        "\n",
        "    # print('Flattened images shape:', flattened_images.shape)\n",
        "\n",
        "\n",
        "    # Backward Pass\n",
        "    optimizer.zero_grad()\n",
        "    loss.backward()\n",
        "    optimizer.step()\n",
        "\n",
        "\n",
        "    if batch_index % 100 == 0:\n",
        "      print(f'Epoch : {epoch+1}, Batch : [{batch_index+100} / {total_steps}],  loss : {loss}')\n",
        "\n",
        "\n",
        "print('Finished Training')\n"
      ],
      "metadata": {
        "colab": {
          "base_uri": "https://localhost:8080/"
        },
        "id": "6Yd78Bq_c91u",
        "outputId": "61d599eb-c2f4-4ecf-fecc-aa5123ec1fdc"
      },
      "execution_count": 9,
      "outputs": [
        {
          "output_type": "stream",
          "name": "stdout",
          "text": [
            "Epoch : 1, Batch : [100 / 500],  loss : 2.3052170276641846\n",
            "Epoch : 1, Batch : [200 / 500],  loss : 2.3031656742095947\n",
            "Epoch : 1, Batch : [300 / 500],  loss : 2.2890849113464355\n",
            "Epoch : 1, Batch : [400 / 500],  loss : 2.1809380054473877\n",
            "Epoch : 1, Batch : [500 / 500],  loss : 2.090425968170166\n",
            "Epoch : 2, Batch : [100 / 500],  loss : 1.9818226099014282\n",
            "Epoch : 2, Batch : [200 / 500],  loss : 1.9176931381225586\n",
            "Epoch : 2, Batch : [300 / 500],  loss : 1.8848068714141846\n",
            "Epoch : 2, Batch : [400 / 500],  loss : 1.8801230192184448\n",
            "Epoch : 2, Batch : [500 / 500],  loss : 1.8133982419967651\n",
            "Epoch : 3, Batch : [100 / 500],  loss : 1.7556548118591309\n",
            "Epoch : 3, Batch : [200 / 500],  loss : 1.9409786462783813\n",
            "Epoch : 3, Batch : [300 / 500],  loss : 1.658518671989441\n",
            "Epoch : 3, Batch : [400 / 500],  loss : 1.762843370437622\n",
            "Epoch : 3, Batch : [500 / 500],  loss : 1.564094066619873\n",
            "Epoch : 4, Batch : [100 / 500],  loss : 1.5923025608062744\n",
            "Epoch : 4, Batch : [200 / 500],  loss : 1.4493299722671509\n",
            "Epoch : 4, Batch : [300 / 500],  loss : 1.4855140447616577\n",
            "Epoch : 4, Batch : [400 / 500],  loss : 1.3981070518493652\n",
            "Epoch : 4, Batch : [500 / 500],  loss : 1.4347901344299316\n",
            "Epoch : 5, Batch : [100 / 500],  loss : 1.3574336767196655\n",
            "Epoch : 5, Batch : [200 / 500],  loss : 1.2987005710601807\n",
            "Epoch : 5, Batch : [300 / 500],  loss : 1.3680992126464844\n",
            "Epoch : 5, Batch : [400 / 500],  loss : 1.3504681587219238\n",
            "Epoch : 5, Batch : [500 / 500],  loss : 1.2686920166015625\n",
            "Epoch : 6, Batch : [100 / 500],  loss : 1.2920297384262085\n",
            "Epoch : 6, Batch : [200 / 500],  loss : 1.921409010887146\n",
            "Epoch : 6, Batch : [300 / 500],  loss : 1.300489902496338\n",
            "Epoch : 6, Batch : [400 / 500],  loss : 1.4642082452774048\n",
            "Epoch : 6, Batch : [500 / 500],  loss : 1.468965768814087\n",
            "Epoch : 7, Batch : [100 / 500],  loss : 1.277672290802002\n",
            "Epoch : 7, Batch : [200 / 500],  loss : 1.3368594646453857\n",
            "Epoch : 7, Batch : [300 / 500],  loss : 1.2936276197433472\n",
            "Epoch : 7, Batch : [400 / 500],  loss : 1.255509614944458\n",
            "Epoch : 7, Batch : [500 / 500],  loss : 1.5523827075958252\n",
            "Epoch : 8, Batch : [100 / 500],  loss : 1.2846063375473022\n",
            "Epoch : 8, Batch : [200 / 500],  loss : 1.3764278888702393\n",
            "Epoch : 8, Batch : [300 / 500],  loss : 1.388343334197998\n",
            "Epoch : 8, Batch : [400 / 500],  loss : 1.4053089618682861\n",
            "Epoch : 8, Batch : [500 / 500],  loss : 1.3828914165496826\n",
            "Epoch : 9, Batch : [100 / 500],  loss : 1.2528612613677979\n",
            "Epoch : 9, Batch : [200 / 500],  loss : 1.3460279703140259\n",
            "Epoch : 9, Batch : [300 / 500],  loss : 1.1347339153289795\n",
            "Epoch : 9, Batch : [400 / 500],  loss : 1.1974565982818604\n",
            "Epoch : 9, Batch : [500 / 500],  loss : 1.089808464050293\n",
            "Epoch : 10, Batch : [100 / 500],  loss : 1.1273066997528076\n",
            "Epoch : 10, Batch : [200 / 500],  loss : 1.0305513143539429\n",
            "Epoch : 10, Batch : [300 / 500],  loss : 1.2689990997314453\n",
            "Epoch : 10, Batch : [400 / 500],  loss : 1.3018678426742554\n",
            "Epoch : 10, Batch : [500 / 500],  loss : 1.130579948425293\n",
            "Finished Training\n"
          ]
        }
      ]
    },
    {
      "cell_type": "code",
      "source": [
        "# Checking Accuracy on Test Data\n",
        "\n",
        "n_correct = 0\n",
        "n_samples = 0\n",
        "\n",
        "with torch.no_grad():\n",
        "  for x, y in test_loader:\n",
        "    x = x.to(device=device)\n",
        "    y = y.to(device=device)\n",
        "\n",
        "    test_predictions = model(x)\n",
        "\n",
        "    value, position = torch.max(test_predictions, axis = 1)\n",
        "\n",
        "    # print(test_predictions.shape)\n",
        "    # print(y.shape)\n",
        "    # print(len(predictions))\n",
        "\n",
        "    n_correct += (y==position).sum()\n",
        "    n_samples += y.shape[0]\n",
        "\n",
        "    #print(n_correct,'/',n_samples)\n",
        "\n",
        "  accuracy = float((n_correct / n_samples) * 100)\n",
        "  print('Accuracy on Test Data : ', accuracy)\n"
      ],
      "metadata": {
        "colab": {
          "base_uri": "https://localhost:8080/"
        },
        "id": "1b06EGKqastg",
        "outputId": "aec26cbd-f2d9-42f0-802d-f074bb632919"
      },
      "execution_count": 10,
      "outputs": [
        {
          "output_type": "stream",
          "name": "stdout",
          "text": [
            "Accuracy on Test Data :  53.96999740600586\n"
          ]
        }
      ]
    }
  ]
}