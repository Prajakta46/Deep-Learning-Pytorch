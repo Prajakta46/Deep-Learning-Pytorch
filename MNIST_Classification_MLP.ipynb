{
  "nbformat": 4,
  "nbformat_minor": 0,
  "metadata": {
    "colab": {
      "name": "MNIST_Classification_MLP.ipynb",
      "provenance": []
    },
    "kernelspec": {
      "name": "python3",
      "display_name": "Python 3"
    },
    "language_info": {
      "name": "python"
    }
  },
  "cells": [
    {
      "cell_type": "code",
      "execution_count": 70,
      "metadata": {
        "id": "uWeTyR2yN2zz"
      },
      "outputs": [],
      "source": [
        "import torch\n",
        "import torchvision\n",
        "from torchvision import datasets, transforms\n",
        "from torch.utils.data import DataLoader\n",
        "import torch.nn as nn\n",
        "from sklearn.metrics import confusion_matrix\n",
        "import numpy as np\n",
        "import matplotlib.pyplot as plt"
      ]
    },
    {
      "cell_type": "code",
      "source": [
        "# Loading in data\n",
        "train_data = datasets.MNIST(root='./mnist_data', train=True, download=True, transform=transforms.ToTensor())\n",
        "test_data = datasets.MNIST(root='./mnist_data', train=False, download=False, transform=transforms.ToTensor())"
      ],
      "metadata": {
        "id": "mCJAAzYUOKtv"
      },
      "execution_count": 71,
      "outputs": []
    },
    {
      "cell_type": "code",
      "source": [
        "image, label = train_data[25]\n",
        "print('Number of images in Training data: ', len(train_data))\n",
        "print('Shape of a random image from train data is: ', image.shape, label)\n",
        "\n",
        "# plotting the image\n",
        "plt.imshow(image.reshape(28,28), cmap = 'gray')"
      ],
      "metadata": {
        "colab": {
          "base_uri": "https://localhost:8080/",
          "height": 317
        },
        "id": "jpk4GmwIOgEv",
        "outputId": "f0576e25-26c0-4421-8cba-c4be659ca6ec"
      },
      "execution_count": 72,
      "outputs": [
        {
          "output_type": "stream",
          "name": "stdout",
          "text": [
            "Number of images in Training data:  60000\n",
            "Shape of a random image from train data is:  torch.Size([1, 28, 28]) 2\n"
          ]
        },
        {
          "output_type": "execute_result",
          "data": {
            "text/plain": [
              "<matplotlib.image.AxesImage at 0x7f22a9fddc50>"
            ]
          },
          "metadata": {},
          "execution_count": 72
        },
        {
          "output_type": "display_data",
          "data": {
            "text/plain": [
              "<Figure size 432x288 with 1 Axes>"
            ],
            "image/png": "[encoded data removed]"
          },
          "metadata": {
            "needs_background": "light"
          }
        }
      ]
    },
    {
      "cell_type": "code",
      "source": [
        "batch_size = 100\n",
        "\n",
        "# DataLoaders\n",
        "train_loader = DataLoader(train_data, batch_size=batch_size, shuffle=True)\n",
        "test_loader = DataLoader(test_data, batch_size=batch_size, shuffle=False)"
      ],
      "metadata": {
        "id": "F_Oj9OxEOx6M"
      },
      "execution_count": 73,
      "outputs": []
    },
    {
      "cell_type": "markdown",
      "source": [
        "Neural Netwrok Architecture\n",
        "\n",
        "--- Input Layers --- 784 neurons - input of 28 * 28\n",
        "\n",
        "\n",
        "--- Hidden Layer --- 256 neurons\n",
        "\n",
        "\n",
        "--- Output Layer --- 10 neurons - 0 to 9 digits to classify from\n",
        "\n",
        "We will use relu activation function and we will use softmax rto give us the probabilities at the output layer"
      ],
      "metadata": {
        "id": "1UhGl0qkQkFx"
      }
    },
    {
      "cell_type": "code",
      "source": [
        "# Define Model\n",
        "class MNIST_classifier(nn.Module):\n",
        "  def __init__(self, input_size, hidden_size, output_size):\n",
        "    super(MNIST_classifier, self).__init__()\n",
        "\n",
        "    self.fc1 = nn.Linear(input_size, hidden_size)\n",
        "    self.fc2 = nn.Linear(hidden_size, output_size)\n",
        "    self.act = nn.ReLU()\n",
        "    \n",
        "  def forward(self, input):\n",
        "    out1 = self.fc1(input)\n",
        "    out1 = self.act(out1)\n",
        "    final_out = self.fc2(out1)\n",
        "\n",
        "    return final_out\n"
      ],
      "metadata": {
        "id": "beu-kKXYRQyt"
      },
      "execution_count": 74,
      "outputs": []
    },
    {
      "cell_type": "code",
      "source": [
        "# Defining hyperparameters\n",
        "input_size = 784\n",
        "hidden_size = 256\n",
        "output_size = 10\n",
        "epochs = 10\n",
        "learning_rate = 0.001\n",
        "\n",
        "device = torch.device('cuda' if torch.cuda.is_available() else 'cpu')"
      ],
      "metadata": {
        "id": "i2lefdMDT4th"
      },
      "execution_count": 75,
      "outputs": []
    },
    {
      "cell_type": "code",
      "source": [
        "model = MNIST_classifier(input_size, hidden_size, output_size).to(device)\n",
        "criterion = nn.CrossEntropyLoss()\n",
        "optimizer = torch.optim.Adam(model.parameters(), lr = learning_rate)"
      ],
      "metadata": {
        "id": "OvyoYqspVL7y"
      },
      "execution_count": 76,
      "outputs": []
    },
    {
      "cell_type": "code",
      "source": [
        "# Train the network\n",
        "print('\\n Training model on training dataset \\n')\n",
        "for epoch in range(epochs):\n",
        "  for batch_index, (images, labels) in enumerate(train_loader):\n",
        "    images = images.to(device=device)\n",
        "    labels = labels.to(device=device) \n",
        "\n",
        "    # Getting data in the correct shape\n",
        "    images = images.view(-1, 784)\n",
        "\n",
        "    # Forward Propogation\n",
        "    predictions = model(images)\n",
        "    loss = criterion(predictions, labels)\n",
        "\n",
        "    # Backward Propogation\n",
        "    optimizer.zero_grad()\n",
        "    loss.backward()\n",
        "\n",
        "    # Gradient Descent\n",
        "    optimizer.step()\n",
        "  \n",
        "    if batch_index % 100 == 0:\n",
        "      print(f'Epoch {epoch+1}, batch number {batch_index+100}, loss is {loss}')\n",
        "    \n"
      ],
      "metadata": {
        "colab": {
          "base_uri": "https://localhost:8080/"
        },
        "id": "WmGYJhjzVlQL",
        "outputId": "bee62b5e-8621-4bf5-d910-336b55496b4f"
      },
      "execution_count": 77,
      "outputs": [
        {
          "output_type": "stream",
          "name": "stdout",
          "text": [
            "\n",
            " Training model on training dataset \n",
            "\n",
            "Epoch 1, batch number 100, loss is 2.3062267303466797\n",
            "Epoch 1, batch number 200, loss is 0.43779197335243225\n",
            "Epoch 1, batch number 300, loss is 0.21239660680294037\n",
            "Epoch 1, batch number 400, loss is 0.37343403697013855\n",
            "Epoch 1, batch number 500, loss is 0.2786595821380615\n",
            "Epoch 1, batch number 600, loss is 0.22813086211681366\n",
            "Epoch 2, batch number 100, loss is 0.24473904073238373\n",
            "Epoch 2, batch number 200, loss is 0.11922585219144821\n",
            "Epoch 2, batch number 300, loss is 0.11561247706413269\n",
            "Epoch 2, batch number 400, loss is 0.1427127718925476\n",
            "Epoch 2, batch number 500, loss is 0.1802217662334442\n",
            "Epoch 2, batch number 600, loss is 0.09787431359291077\n",
            "Epoch 3, batch number 100, loss is 0.08286131173372269\n",
            "Epoch 3, batch number 200, loss is 0.11686652153730392\n",
            "Epoch 3, batch number 300, loss is 0.12697206437587738\n",
            "Epoch 3, batch number 400, loss is 0.06710396707057953\n",
            "Epoch 3, batch number 500, loss is 0.05593651905655861\n",
            "Epoch 3, batch number 600, loss is 0.10153621435165405\n",
            "Epoch 4, batch number 100, loss is 0.09335426986217499\n",
            "Epoch 4, batch number 200, loss is 0.0780380591750145\n",
            "Epoch 4, batch number 300, loss is 0.04605643451213837\n",
            "Epoch 4, batch number 400, loss is 0.05164274573326111\n",
            "Epoch 4, batch number 500, loss is 0.04117603227496147\n",
            "Epoch 4, batch number 600, loss is 0.12418794631958008\n",
            "Epoch 5, batch number 100, loss is 0.03979968652129173\n",
            "Epoch 5, batch number 200, loss is 0.03408987820148468\n",
            "Epoch 5, batch number 300, loss is 0.029552482068538666\n",
            "Epoch 5, batch number 400, loss is 0.03354211151599884\n",
            "Epoch 5, batch number 500, loss is 0.03366893157362938\n",
            "Epoch 5, batch number 600, loss is 0.0490022711455822\n",
            "Epoch 6, batch number 100, loss is 0.044687770307064056\n",
            "Epoch 6, batch number 200, loss is 0.020016919821500778\n",
            "Epoch 6, batch number 300, loss is 0.0446423664689064\n",
            "Epoch 6, batch number 400, loss is 0.037689123302698135\n",
            "Epoch 6, batch number 500, loss is 0.05348619446158409\n",
            "Epoch 6, batch number 600, loss is 0.0457274429500103\n",
            "Epoch 7, batch number 100, loss is 0.07554564625024796\n",
            "Epoch 7, batch number 200, loss is 0.039822839200496674\n",
            "Epoch 7, batch number 300, loss is 0.07930614054203033\n",
            "Epoch 7, batch number 400, loss is 0.03049248643219471\n",
            "Epoch 7, batch number 500, loss is 0.05079018697142601\n",
            "Epoch 7, batch number 600, loss is 0.04657278209924698\n",
            "Epoch 8, batch number 100, loss is 0.03380345180630684\n",
            "Epoch 8, batch number 200, loss is 0.008452477864921093\n",
            "Epoch 8, batch number 300, loss is 0.016316181048750877\n",
            "Epoch 8, batch number 400, loss is 0.10466407984495163\n",
            "Epoch 8, batch number 500, loss is 0.020306741818785667\n",
            "Epoch 8, batch number 600, loss is 0.039327263832092285\n",
            "Epoch 9, batch number 100, loss is 0.0142921581864357\n",
            "Epoch 9, batch number 200, loss is 0.03087026998400688\n",
            "Epoch 9, batch number 300, loss is 0.02411147765815258\n",
            "Epoch 9, batch number 400, loss is 0.015819482505321503\n",
            "Epoch 9, batch number 500, loss is 0.0077290004119277\n",
            "Epoch 9, batch number 600, loss is 0.029610032215714455\n",
            "Epoch 10, batch number 100, loss is 0.019984398037195206\n",
            "Epoch 10, batch number 200, loss is 0.0063356137834489346\n",
            "Epoch 10, batch number 300, loss is 0.008966181427240372\n",
            "Epoch 10, batch number 400, loss is 0.005698559805750847\n",
            "Epoch 10, batch number 500, loss is 0.012673554010689259\n",
            "Epoch 10, batch number 600, loss is 0.015998510643839836\n"
          ]
        }
      ]
    },
    {
      "cell_type": "code",
      "source": [
        "# Testing Time : Checking accuracy on Test Data\n",
        "def check_accuracy(loader, model):\n",
        "  num_correct = 0\n",
        "  num_samples = 0\n",
        "\n",
        "  model.eval()\n",
        "\n",
        "  with torch.no_grad():\n",
        "    for x, y in loader:\n",
        "      x = x.to(device = device)\n",
        "      y = y.to(device = device)\n",
        "      x = x.view(-1, 784)\n",
        "\n",
        "      y_pred = model(x)\n",
        "      # print(y_pred.shape)\n",
        "      values, position = torch.max(y_pred, axis=1)\n",
        "      # print(position, y)\n",
        "      num_correct += (position == y).sum()\n",
        "      num_samples += y.shape[0]\n",
        "\n",
        "      # print(num_correct,'/',num_samples)\n",
        "\n",
        "    accuracy = float((num_correct/num_samples) * 100)\n",
        "    print(f'Accuracy on Test Set is {accuracy}')\n",
        "\n",
        "\n",
        "check_accuracy(test_loader, model)"
      ],
      "metadata": {
        "colab": {
          "base_uri": "https://localhost:8080/"
        },
        "id": "nu0zOLo_ZRAz",
        "outputId": "3a6b454c-e58a-4792-9fa1-e0e37239c4ed"
      },
      "execution_count": 78,
      "outputs": [
        {
          "output_type": "stream",
          "name": "stdout",
          "text": [
            "Accuracy on Test Set is 97.93000030517578\n"
          ]
        }
      ]
    }
  ]
}